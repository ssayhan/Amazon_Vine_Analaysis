{
  "nbformat": 4,
  "nbformat_minor": 0,
  "metadata": {
    "colab": {
      "name": "Vine_Review_Analysis.ipynb",
      "provenance": [],
      "collapsed_sections": []
    },
    "kernelspec": {
      "name": "python3",
      "display_name": "Python 3"
    },
    "language_info": {
      "name": "python"
    }
  },
  "cells": [
    {
      "cell_type": "code",
      "execution_count": 1,
      "metadata": {
        "colab": {
          "base_uri": "https://localhost:8080/"
        },
        "id": "fBMsk0ghnR-t",
        "outputId": "5decf77f-a9c2-44ef-a4be-098744f03f20"
      },
      "outputs": [
        {
          "output_type": "stream",
          "name": "stdout",
          "text": [
            "Get:1 https://cloud.r-project.org/bin/linux/ubuntu bionic-cran40/ InRelease [3,626 B]\n",
            "Hit:2 http://archive.ubuntu.com/ubuntu bionic InRelease\n",
            "Get:3 http://archive.ubuntu.com/ubuntu bionic-updates InRelease [88.7 kB]\n",
            "Get:4 http://security.ubuntu.com/ubuntu bionic-security InRelease [88.7 kB]\n",
            "Hit:5 http://ppa.launchpad.net/c2d4u.team/c2d4u4.0+/ubuntu bionic InRelease\n",
            "Get:6 http://archive.ubuntu.com/ubuntu bionic-backports InRelease [74.6 kB]\n",
            "Hit:7 https://developer.download.nvidia.com/compute/cuda/repos/ubuntu1804/x86_64  InRelease\n",
            "Hit:8 http://ppa.launchpad.net/cran/libgit2/ubuntu bionic InRelease\n",
            "Hit:9 http://ppa.launchpad.net/deadsnakes/ppa/ubuntu bionic InRelease\n",
            "Ign:10 https://developer.download.nvidia.com/compute/machine-learning/repos/ubuntu1804/x86_64  InRelease\n",
            "Hit:11 https://developer.download.nvidia.com/compute/machine-learning/repos/ubuntu1804/x86_64  Release\n",
            "Hit:12 http://ppa.launchpad.net/graphics-drivers/ppa/ubuntu bionic InRelease\n",
            "Get:13 http://archive.ubuntu.com/ubuntu bionic-updates/main amd64 Packages [3,329 kB]\n",
            "Get:14 http://archive.ubuntu.com/ubuntu bionic-updates/universe amd64 Packages [2,302 kB]\n",
            "Get:15 http://security.ubuntu.com/ubuntu bionic-security/main amd64 Packages [2,897 kB]\n",
            "Get:16 http://security.ubuntu.com/ubuntu bionic-security/restricted amd64 Packages [1,057 kB]\n",
            "Get:18 http://security.ubuntu.com/ubuntu bionic-security/universe amd64 Packages [1,526 kB]\n",
            "Fetched 11.4 MB in 6s (1,917 kB/s)\n",
            "Reading package lists... Done\n"
          ]
        }
      ],
      "source": [
        "import os\n",
        "# Find the latest version of spark 3.0 from http://www.apache.org/dist/spark/ and enter as the spark version\n",
        "# For example:\n",
        "# spark_version = 'spark-3.0.3'\n",
        "spark_version = 'spark-3.0.3'\n",
        "os.environ['SPARK_VERSION']=spark_version\n",
        "\n",
        "# Install Spark and Java\n",
        "!apt-get update\n",
        "!apt-get install openjdk-11-jdk-headless -qq > /dev/null\n",
        "!wget -q http://www.apache.org/dist/spark/$SPARK_VERSION/$SPARK_VERSION-bin-hadoop2.7.tgz\n",
        "!tar xf $SPARK_VERSION-bin-hadoop2.7.tgz\n",
        "!pip install -q findspark\n",
        "\n",
        "# Set Environment Variables\n",
        "import os\n",
        "os.environ[\"JAVA_HOME\"] = \"/usr/lib/jvm/java-11-openjdk-amd64\"\n",
        "os.environ[\"SPARK_HOME\"] = f\"/content/{spark_version}-bin-hadoop2.7\"\n",
        "\n",
        "# Start a SparkSession\n",
        "import findspark\n",
        "findspark.init()"
      ]
    },
    {
      "cell_type": "code",
      "source": [
        "# Download the Postgres driver that will allow Spark to interact with Postgres.\n",
        "!wget https://jdbc.postgresql.org/download/postgresql-42.2.16.jar"
      ],
      "metadata": {
        "colab": {
          "base_uri": "https://localhost:8080/"
        },
        "id": "ms124xKmnYUP",
        "outputId": "89419198-d438-4d65-9daf-93b34c06335a"
      },
      "execution_count": 2,
      "outputs": [
        {
          "output_type": "stream",
          "name": "stdout",
          "text": [
            "--2022-07-16 06:07:05--  https://jdbc.postgresql.org/download/postgresql-42.2.16.jar\n",
            "Resolving jdbc.postgresql.org (jdbc.postgresql.org)... 72.32.157.228, 2001:4800:3e1:1::228\n",
            "Connecting to jdbc.postgresql.org (jdbc.postgresql.org)|72.32.157.228|:443... connected.\n",
            "HTTP request sent, awaiting response... 200 OK\n",
            "Length: 1002883 (979K) [application/java-archive]\n",
            "Saving to: ‘postgresql-42.2.16.jar’\n",
            "\n",
            "postgresql-42.2.16. 100%[===================>] 979.38K  --.-KB/s    in 0.08s   \n",
            "\n",
            "2022-07-16 06:07:05 (11.3 MB/s) - ‘postgresql-42.2.16.jar’ saved [1002883/1002883]\n",
            "\n"
          ]
        }
      ]
    },
    {
      "cell_type": "code",
      "source": [
        "from pyspark.sql import SparkSession\n",
        "spark = SparkSession.builder.appName(\"M16-Amazon-Challenge\").config(\"spark.driver.extraClassPath\",\"/content/postgresql-42.2.16.jar\").getOrCreate()"
      ],
      "metadata": {
        "id": "X7DWJTcwn6EP"
      },
      "execution_count": 4,
      "outputs": []
    },
    {
      "cell_type": "markdown",
      "source": [
        "\n",
        "Load Amazon Data into Spark DataFrame"
      ],
      "metadata": {
        "id": "0nVa212EnooV"
      }
    },
    {
      "cell_type": "code",
      "source": [
        "from pyspark import SparkFiles\n",
        "url = \"https://denverdataviz.s3.amazonaws.com/amazon_reviews_us_Automotive_v1_00.tsv\"\n",
        "spark.sparkContext.addFile(url)\n",
        "df = spark.read.option(\"encoding\", \"UTF-8\").csv(SparkFiles.get(\"\"), sep=\"\\t\", header=True, inferSchema=True)\n",
        "df.show()"
      ],
      "metadata": {
        "colab": {
          "base_uri": "https://localhost:8080/"
        },
        "id": "rmPygzBTnh8b",
        "outputId": "fb5c3d24-500b-4f7c-cece-94916b7625cf"
      },
      "execution_count": 5,
      "outputs": [
        {
          "output_type": "stream",
          "name": "stdout",
          "text": [
            "+-----------+-----------+--------------+----------+--------------+--------------------+----------------+-----------+-------------+-----------+----+-----------------+--------------------+--------------------+-----------+\n",
            "|marketplace|customer_id|     review_id|product_id|product_parent|       product_title|product_category|star_rating|helpful_votes|total_votes|vine|verified_purchase|     review_headline|         review_body|review_date|\n",
            "+-----------+-----------+--------------+----------+--------------+--------------------+----------------+-----------+-------------+-----------+----+-----------------+--------------------+--------------------+-----------+\n",
            "|         US|   36075342| RAB23OVFNCXZQ|B00LPRXQ4Y|     339193102|17\" 2003-2006 For...|      Automotive|          1|            0|          0|   N|                Y|     As it was used,|As it was used, t...| 2015-08-31|\n",
            "|         US|   42462164|R3NORADVJO6IE6|B000C7S0TO|     907684644|Spectra Premium C...|      Automotive|          5|            0|          0|   N|                Y|          Five Stars|Put it in fine, n...| 2015-08-31|\n",
            "|         US|   21241933|R299F4SO98S5OO|B000CO9WE4|     752246352|K&N E-4665 High P...|      Automotive|          5|            1|          1|   N|                Y|Great fit and per...|Fit wonderfully o...| 2015-08-31|\n",
            "|         US|   52570308|R2DA9DOT03UW6I|B000GKD5NI|     105401756|Suncutters Rear W...|      Automotive|          5|            2|          3|   N|                Y|Good for the pric...|Good for the pric...| 2015-08-31|\n",
            "|         US|   38200102|R2OGCH681EQHU6|B009SDA7TE|     728471129|Lug Nuts Landcrui...|      Automotive|          5|            0|          0|   N|                Y|          Five Stars|Fit perfectly on ...| 2015-08-31|\n",
            "|         US|   34866169| R2JMKIC16MHD7|B00KV15KRG|     962286893|Fits 2007-2009 Ho...|      Automotive|          5|            2|          2|   N|                Y|Fit Well and Bett...|Product fits well...| 2015-08-31|\n",
            "|         US|     184627|R1DB5DA7CWWTI8|B0002JMAKW|     267002949|Castrol 12614 Dot...|      Automotive|          5|            0|          0|   N|                Y|convenient, fast ...|convenient ,fast ...| 2015-08-31|\n",
            "|         US|    2975964|R1N8XWFDK4QACP|B00XJKMM6S|     570789093|New Power Window ...|      Automotive|          5|            0|          0|   N|                Y|          Five Stars|             is good| 2015-08-31|\n",
            "|         US|   40946484|R19VFLX6MRU0CX|B000C5CEKC|     389524802|Motorad MGC-791 L...|      Automotive|          5|            0|          0|   N|                Y|GOOD deal.  Great...|wonderful.  if yo...| 2015-08-31|\n",
            "|         US|   12554469| RLTD8YDGTP9PT|B00GD9R2A8|      21425394|Genuine Ford AL3Z...|      Automotive|          1|            0|          0|   N|                Y|Does not fit my F...|Does not work wit...| 2015-08-31|\n",
            "|         US|   35335277| R78B5LCFJ52SR|B00RM327NG|     816815445|Air Vent Smartpho...|      Automotive|          4|            0|          0|   N|                Y|            Not bad!|I really loved th...| 2015-08-31|\n",
            "|         US|   44957003|R33SKWL0HEQIQ9|B0071NL7UQ|     192225755|FDJ New Replaceme...|      Automotive|          5|            0|          0|   N|                Y|          Five Stars| Just what I wanted.| 2015-08-31|\n",
            "|         US|     444125|R1HIOV0UX7P13D|B00DSOL0FY|     849414056|Omix-Ada 17402.09...|      Automotive|          5|            0|          0|   N|                Y|          Five Stars|Great product and...| 2015-08-31|\n",
            "|         US|   35829199| R4WS0E0MSP9DH|B00GRV48TK|     651316983|GMB 530-2480 Fuel...|      Automotive|          5|            2|          2|   N|                Y|           Well made|Appears to be wel...| 2015-08-31|\n",
            "|         US|   16825098| R2RUIDUMDKG7P|B000E4PCGE|     694793259|00-03 NISSAN SENT...|      Automotive|          3|            0|          0|   N|                Y|new and a great l...|Product was as de...| 2015-08-31|\n",
            "|         US|    2583392| RZSA6L4M4D4XA|B005Z8HAUK|     732072782|Slime 40026 2X He...|      Automotive|          5|            0|          0|   N|                Y|          Five Stars|SO much quieter t...| 2015-08-31|\n",
            "|         US|   10127903|R1O3NGQNCFXKR6|B0043AV4NK|     533179941|MegaBrand N1 4\" B...|      Automotive|          5|            0|          0|   N|                Y|              decent|Great for the pri...| 2015-08-31|\n",
            "|         US|   17937309|R2IEM66RCBJ95A|B00CDHD76C|     126169507|Jackly 45-in-One ...|      Automotive|          5|            0|          0|   N|                Y|Nice set of tools...|Nice set of tools...| 2015-08-31|\n",
            "|         US|   17145638|R2BQ9O517KSCP8|B000CF1XO0|     475232737|Bosch 3397118942 ...|      Automotive|          5|            0|          0|   N|                N|          Five Stars|       Everything ok| 2015-08-31|\n",
            "|         US|   32813839|R1KF86427VR7AC|B003VLBPJA|     897802619|Heavy-Duty 15\" Ca...|      Automotive|          3|            0|          0|   N|                Y|         Three Stars|I hope the hooks ...| 2015-08-31|\n",
            "+-----------+-----------+--------------+----------+--------------+--------------------+----------------+-----------+-------------+-----------+----+-----------------+--------------------+--------------------+-----------+\n",
            "only showing top 20 rows\n",
            "\n"
          ]
        }
      ]
    },
    {
      "cell_type": "code",
      "source": [
        "new_df = df.select([\"product_id\", \"total_votes\", \"helpful_votes\", \"vine\",  \"review_id\", \"star_rating\", \"verified_purchase\"])\n",
        "new_df.show()"
      ],
      "metadata": {
        "colab": {
          "base_uri": "https://localhost:8080/"
        },
        "id": "AJXE8LlfpbWm",
        "outputId": "24b0416b-23d2-4999-aa61-029b28105d74"
      },
      "execution_count": 10,
      "outputs": [
        {
          "output_type": "stream",
          "name": "stdout",
          "text": [
            "+----------+-----------+-------------+----+--------------+-----------+-----------------+\n",
            "|product_id|total_votes|helpful_votes|vine|     review_id|star_rating|verified_purchase|\n",
            "+----------+-----------+-------------+----+--------------+-----------+-----------------+\n",
            "|B00LPRXQ4Y|          0|            0|   N| RAB23OVFNCXZQ|          1|                Y|\n",
            "|B000C7S0TO|          0|            0|   N|R3NORADVJO6IE6|          5|                Y|\n",
            "|B000CO9WE4|          1|            1|   N|R299F4SO98S5OO|          5|                Y|\n",
            "|B000GKD5NI|          3|            2|   N|R2DA9DOT03UW6I|          5|                Y|\n",
            "|B009SDA7TE|          0|            0|   N|R2OGCH681EQHU6|          5|                Y|\n",
            "|B00KV15KRG|          2|            2|   N| R2JMKIC16MHD7|          5|                Y|\n",
            "|B0002JMAKW|          0|            0|   N|R1DB5DA7CWWTI8|          5|                Y|\n",
            "|B00XJKMM6S|          0|            0|   N|R1N8XWFDK4QACP|          5|                Y|\n",
            "|B000C5CEKC|          0|            0|   N|R19VFLX6MRU0CX|          5|                Y|\n",
            "|B00GD9R2A8|          0|            0|   N| RLTD8YDGTP9PT|          1|                Y|\n",
            "|B00RM327NG|          0|            0|   N| R78B5LCFJ52SR|          4|                Y|\n",
            "|B0071NL7UQ|          0|            0|   N|R33SKWL0HEQIQ9|          5|                Y|\n",
            "|B00DSOL0FY|          0|            0|   N|R1HIOV0UX7P13D|          5|                Y|\n",
            "|B00GRV48TK|          2|            2|   N| R4WS0E0MSP9DH|          5|                Y|\n",
            "|B000E4PCGE|          0|            0|   N| R2RUIDUMDKG7P|          3|                Y|\n",
            "|B005Z8HAUK|          0|            0|   N| RZSA6L4M4D4XA|          5|                Y|\n",
            "|B0043AV4NK|          0|            0|   N|R1O3NGQNCFXKR6|          5|                Y|\n",
            "|B00CDHD76C|          0|            0|   N|R2IEM66RCBJ95A|          5|                Y|\n",
            "|B000CF1XO0|          0|            0|   N|R2BQ9O517KSCP8|          5|                N|\n",
            "|B003VLBPJA|          0|            0|   N|R1KF86427VR7AC|          3|                Y|\n",
            "+----------+-----------+-------------+----+--------------+-----------+-----------------+\n",
            "only showing top 20 rows\n",
            "\n"
          ]
        }
      ]
    },
    {
      "cell_type": "code",
      "source": [
        "# 1.Creata new DF: total votes are greater than 20\n",
        "total_votes_df = new_df.filter('total_votes>=20')\n",
        "total_votes_df.show()"
      ],
      "metadata": {
        "colab": {
          "base_uri": "https://localhost:8080/"
        },
        "id": "TJFKBgW1nsuJ",
        "outputId": "2d8c9307-61d5-45e2-f041-056d204d8cd2"
      },
      "execution_count": 11,
      "outputs": [
        {
          "output_type": "stream",
          "name": "stdout",
          "text": [
            "+----------+-----------+-------------+----+--------------+-----------+-----------------+\n",
            "|product_id|total_votes|helpful_votes|vine|     review_id|star_rating|verified_purchase|\n",
            "+----------+-----------+-------------+----+--------------+-----------+-----------------+\n",
            "|B00V03D9KY|         31|            8|   N|R1T4FVSABO0IDP|          5|                Y|\n",
            "|B00IS941D2|         21|           21|   N|R397VXR1GAK6C9|          5|                Y|\n",
            "|B00VNBDWPK|         69|           59|   N|R2H6KB9RHS17GA|          3|                Y|\n",
            "|B00UW4DLJ6|         28|            6|   N|R3HAK0MUN9F5IT|          1|                Y|\n",
            "|B0101SLT5U|         21|           21|   N|R29UTZTOPUVRSV|          5|                Y|\n",
            "|B009W85R4A|         32|           27|   N| RY9FLUD8VG6XD|          4|                Y|\n",
            "|B000GQA8DC|         40|           34|   N|R3Q5NAY8BGAKHI|          5|                Y|\n",
            "|B002G3OG6S|         30|           30|   N| RRVJ7TYDEK7EO|          5|                Y|\n",
            "|B00LAJTEFW|         20|           17|   N|R2S4CHISQA2WDH|          5|                Y|\n",
            "|B00G620ZVU|         65|           57|   N|R1JNALJ77OULPH|          4|                Y|\n",
            "|B00JZQXJ3K|         20|           19|   N|R13YNG792BCR77|          5|                Y|\n",
            "|B00OHZ20X4|         20|           18|   N|R1RYG8MVOPK4Q2|          5|                Y|\n",
            "|B00BD4YH24|         36|           33|   N|R2V9VX4YQ8TQ24|          5|                Y|\n",
            "|B00B5LMAVA|         21|           21|   N|R2UCJ0GANHZVA8|          5|                Y|\n",
            "|B0002TDUW4|         98|           96|   N| R8MJZ3925MBK0|          5|                Y|\n",
            "|B00QJRYMFC|         47|           41|   N|R378YNR0LMM3DP|          2|                Y|\n",
            "|B011DFTJTI|         70|           64|   N|R2UIEYEJPJC9EM|          5|                N|\n",
            "|B00FH8P1DG|         56|           52|   N| RX2K8ERZ5BENR|          5|                Y|\n",
            "|B00NHBYOA6|         35|           34|   N|R34VOML4JURU4E|          1|                Y|\n",
            "|B00T62RK1U|         52|           43|   N|R21FPJN76XM6J8|          3|                Y|\n",
            "+----------+-----------+-------------+----+--------------+-----------+-----------------+\n",
            "only showing top 20 rows\n",
            "\n"
          ]
        }
      ]
    },
    {
      "cell_type": "code",
      "source": [
        "# 2. Create new DF: helpful votes/total_votes > %50 \n",
        "helpful_votes_df= new_df.withColumn(\"helpful_votes_percantage\", new_df['helpful_votes']/new_df['total_votes']).filter('helpful_votes_percantage>=0.5')\n",
        "helpful_votes_df.show()"
      ],
      "metadata": {
        "colab": {
          "base_uri": "https://localhost:8080/"
        },
        "id": "fslvQ7UrqZuB",
        "outputId": "ea690bb6-a14c-4723-cc1d-13786d314aaa"
      },
      "execution_count": 13,
      "outputs": [
        {
          "output_type": "stream",
          "name": "stdout",
          "text": [
            "+----------+-----------+-------------+----+--------------+-----------+-----------------+------------------------+\n",
            "|product_id|total_votes|helpful_votes|vine|     review_id|star_rating|verified_purchase|helpful_votes_percantage|\n",
            "+----------+-----------+-------------+----+--------------+-----------+-----------------+------------------------+\n",
            "|B000CO9WE4|          1|            1|   N|R299F4SO98S5OO|          5|                Y|                     1.0|\n",
            "|B000GKD5NI|          3|            2|   N|R2DA9DOT03UW6I|          5|                Y|      0.6666666666666666|\n",
            "|B00KV15KRG|          2|            2|   N| R2JMKIC16MHD7|          5|                Y|                     1.0|\n",
            "|B00GRV48TK|          2|            2|   N| R4WS0E0MSP9DH|          5|                Y|                     1.0|\n",
            "|B00JH2DL4O|          3|            3|   N|R20S7DPGDWCM91|          4|                Y|                     1.0|\n",
            "|B000BTO0CY|          2|            1|   N|R2PNF1QGR4SMTD|          5|                Y|                     0.5|\n",
            "|B00OTBCIRE|          2|            1|   N|R1WALF7P75YCOL|          1|                Y|                     0.5|\n",
            "|B000NCI854|          2|            2|   N| RK93BLP1IC846|          4|                Y|                     1.0|\n",
            "|B0012PJFH6|          6|            6|   N|R1HWVNVQC35462|          5|                Y|                     1.0|\n",
            "|B00A70CLZ0|          2|            2|   N|  RGJNMM05CYHA|          3|                Y|                     1.0|\n",
            "|B00WRX85LO|          2|            2|   N| RUY29QUGK3DSH|          5|                Y|                     1.0|\n",
            "|B00BYH6C1E|          1|            1|   N| RPTPASY6DSLXD|          5|                Y|                     1.0|\n",
            "|B0045T4PP8|          1|            1|   N|R2NI63AH1RQOLI|          5|                Y|                     1.0|\n",
            "|B00JYX1WEW|          2|            2|   N|R2ASIZ3780W0LQ|          5|                Y|                     1.0|\n",
            "|B012Y82YOA|         11|            9|   N|R2OIVH6YHXOGXY|          3|                Y|      0.8181818181818182|\n",
            "|B003CSLLHS|          1|            1|   N|R1Y87YZCCQT4GW|          5|                Y|                     1.0|\n",
            "|B002X6VXL4|          1|            1|   N|R3PGMRSRFP4VAH|          5|                Y|                     1.0|\n",
            "|B00E1HX8HK|          2|            1|   N| RB3DR1RUH3YCH|          5|                Y|                     0.5|\n",
            "|B003SWNVI0|          1|            1|   N| RRGBKLXOYSMTT|          5|                Y|                     1.0|\n",
            "|B010CUB448|          3|            3|   N| R5X3RKYYGRSIG|          5|                Y|                     1.0|\n",
            "+----------+-----------+-------------+----+--------------+-----------+-----------------+------------------------+\n",
            "only showing top 20 rows\n",
            "\n"
          ]
        }
      ]
    },
    {
      "cell_type": "code",
      "source": [
        "# 3. Create a new DF: vine =='Y'\n",
        "y_df = helpful_votes_df.filter(helpful_votes_df['vine']=='Y')\n",
        "y_df.show()"
      ],
      "metadata": {
        "colab": {
          "base_uri": "https://localhost:8080/"
        },
        "id": "sF4-ljhYpXg2",
        "outputId": "03214b47-9f99-4888-9873-36fccf96fbb6"
      },
      "execution_count": 15,
      "outputs": [
        {
          "output_type": "stream",
          "name": "stdout",
          "text": [
            "+----------+-----------+-------------+----+--------------+-----------+-----------------+------------------------+\n",
            "|product_id|total_votes|helpful_votes|vine|     review_id|star_rating|verified_purchase|helpful_votes_percantage|\n",
            "+----------+-----------+-------------+----+--------------+-----------+-----------------+------------------------+\n",
            "|B00NBN1C78|          1|            1|   Y|R10NCRGJVMP7L7|          4|                N|                     1.0|\n",
            "|B00KVVBEWQ|          3|            3|   Y|R23WHXDAFZ2Z8X|          2|                N|                     1.0|\n",
            "|B00H36XX6C|          8|            8|   Y|R10TBBMVLW5KL3|          5|                N|                     1.0|\n",
            "|B00KVVBEWQ|          7|            6|   Y|R3QZPRZM7AJSJO|          4|                N|      0.8571428571428571|\n",
            "|B00DILTE1Y|          3|            2|   Y|R2M8DC3E0EI7D6|          5|                N|      0.6666666666666666|\n",
            "|B00LML7GJY|          1|            1|   Y|R19B1CGHBEBUCJ|          5|                N|                     1.0|\n",
            "|B00FRZPN64|          2|            2|   Y|R29PKWRH3IQU00|          5|                N|                     1.0|\n",
            "|B00H36XX6C|          2|            1|   Y|R1L9652N8FZFNF|          5|                N|                     0.5|\n",
            "|B00TBHXC4E|          3|            3|   Y|R1ZE38SCA10LQV|          5|                N|                     1.0|\n",
            "|B00KVVBEWQ|          2|            1|   Y|R17PCCA11HCUPE|          1|                N|                     0.5|\n",
            "|B00KVVBEWQ|          6|            6|   Y|R2G7AQCJURLQKP|          3|                N|                     1.0|\n",
            "|B00NBN1C78|          1|            1|   Y|R2NSV7Q0QLUEGB|          3|                N|                     1.0|\n",
            "|B00S4HFNXK|          1|            1|   Y|R332M71TMRU0NN|          4|                N|                     1.0|\n",
            "|B00S4HFNXK|          1|            1|   Y|R24TI9SGW2GZUV|          5|                N|                     1.0|\n",
            "|B00KVVBEWQ|          1|            1|   Y|R1BJ5VFC9TSP2Z|          3|                N|                     1.0|\n",
            "|B00TPUKM8Q|          2|            2|   Y|R26KYOZOPLSXL1|          5|                N|                     1.0|\n",
            "|B00TPV6EUK|          1|            1|   Y|R27H2ML4MVNSOK|          4|                N|                     1.0|\n",
            "|B00KVVBEWQ|          9|            8|   Y|R3BRC61ZMPXT1O|          1|                N|      0.8888888888888888|\n",
            "|B00DILTFP4|          1|            1|   Y|R3SGNYF28CEH6K|          5|                N|                     1.0|\n",
            "|B00NBN1C78|          1|            1|   Y| R4TDIHQGWQCTT|          4|                N|                     1.0|\n",
            "+----------+-----------+-------------+----+--------------+-----------+-----------------+------------------------+\n",
            "only showing top 20 rows\n",
            "\n"
          ]
        }
      ]
    },
    {
      "cell_type": "code",
      "source": [
        "# 4. Create a new DF: vine =='N'\n",
        "n_df = helpful_votes_df.filter(helpful_votes_df['vine']=='N')\n",
        "n_df.show()"
      ],
      "metadata": {
        "colab": {
          "base_uri": "https://localhost:8080/"
        },
        "id": "plO9Qo4mtUdN",
        "outputId": "76603eb8-0868-494f-fcb5-ee6ca181b281"
      },
      "execution_count": 16,
      "outputs": [
        {
          "output_type": "stream",
          "name": "stdout",
          "text": [
            "+----------+-----------+-------------+----+--------------+-----------+-----------------+------------------------+\n",
            "|product_id|total_votes|helpful_votes|vine|     review_id|star_rating|verified_purchase|helpful_votes_percantage|\n",
            "+----------+-----------+-------------+----+--------------+-----------+-----------------+------------------------+\n",
            "|B000CO9WE4|          1|            1|   N|R299F4SO98S5OO|          5|                Y|                     1.0|\n",
            "|B000GKD5NI|          3|            2|   N|R2DA9DOT03UW6I|          5|                Y|      0.6666666666666666|\n",
            "|B00KV15KRG|          2|            2|   N| R2JMKIC16MHD7|          5|                Y|                     1.0|\n",
            "|B00GRV48TK|          2|            2|   N| R4WS0E0MSP9DH|          5|                Y|                     1.0|\n",
            "|B00JH2DL4O|          3|            3|   N|R20S7DPGDWCM91|          4|                Y|                     1.0|\n",
            "|B000BTO0CY|          2|            1|   N|R2PNF1QGR4SMTD|          5|                Y|                     0.5|\n",
            "|B00OTBCIRE|          2|            1|   N|R1WALF7P75YCOL|          1|                Y|                     0.5|\n",
            "|B000NCI854|          2|            2|   N| RK93BLP1IC846|          4|                Y|                     1.0|\n",
            "|B0012PJFH6|          6|            6|   N|R1HWVNVQC35462|          5|                Y|                     1.0|\n",
            "|B00A70CLZ0|          2|            2|   N|  RGJNMM05CYHA|          3|                Y|                     1.0|\n",
            "|B00WRX85LO|          2|            2|   N| RUY29QUGK3DSH|          5|                Y|                     1.0|\n",
            "|B00BYH6C1E|          1|            1|   N| RPTPASY6DSLXD|          5|                Y|                     1.0|\n",
            "|B0045T4PP8|          1|            1|   N|R2NI63AH1RQOLI|          5|                Y|                     1.0|\n",
            "|B00JYX1WEW|          2|            2|   N|R2ASIZ3780W0LQ|          5|                Y|                     1.0|\n",
            "|B012Y82YOA|         11|            9|   N|R2OIVH6YHXOGXY|          3|                Y|      0.8181818181818182|\n",
            "|B003CSLLHS|          1|            1|   N|R1Y87YZCCQT4GW|          5|                Y|                     1.0|\n",
            "|B002X6VXL4|          1|            1|   N|R3PGMRSRFP4VAH|          5|                Y|                     1.0|\n",
            "|B00E1HX8HK|          2|            1|   N| RB3DR1RUH3YCH|          5|                Y|                     0.5|\n",
            "|B003SWNVI0|          1|            1|   N| RRGBKLXOYSMTT|          5|                Y|                     1.0|\n",
            "|B010CUB448|          3|            3|   N| R5X3RKYYGRSIG|          5|                Y|                     1.0|\n",
            "+----------+-----------+-------------+----+--------------+-----------+-----------------+------------------------+\n",
            "only showing top 20 rows\n",
            "\n"
          ]
        }
      ]
    },
    {
      "cell_type": "code",
      "source": [
        "# 5. Counting for paid an unpaid\n",
        "# 5.1 total reviews & number of 5 star reviews\n",
        "total_reviews = y_df.count()\n",
        "total_reviews"
      ],
      "metadata": {
        "colab": {
          "base_uri": "https://localhost:8080/"
        },
        "id": "ljjwtTqdtmO5",
        "outputId": "a056b5dd-6583-4945-cf05-8429fbbb02ce"
      },
      "execution_count": 41,
      "outputs": [
        {
          "output_type": "execute_result",
          "data": {
            "text/plain": [
              "2088"
            ]
          },
          "metadata": {},
          "execution_count": 41
        }
      ]
    },
    {
      "cell_type": "code",
      "source": [
        "five_star = y_df.filter(y_df.star_rating==5).count()\n",
        "five_star"
      ],
      "metadata": {
        "colab": {
          "base_uri": "https://localhost:8080/"
        },
        "id": "8S7WQzeB1a-Z",
        "outputId": "849fb1be-b761-46c3-e3bb-c4750a8a86e1"
      },
      "execution_count": 46,
      "outputs": [
        {
          "output_type": "execute_result",
          "data": {
            "text/plain": [
              "958"
            ]
          },
          "metadata": {},
          "execution_count": 46
        }
      ]
    },
    {
      "cell_type": "code",
      "source": [
        "review_percantage = (five_star / total_reviews) * 100\n",
        "review_percantage"
      ],
      "metadata": {
        "colab": {
          "base_uri": "https://localhost:8080/"
        },
        "id": "-s09JMaP20-b",
        "outputId": "d3c96d1e-30a5-448c-f3f6-4a2384de62ce"
      },
      "execution_count": 48,
      "outputs": [
        {
          "output_type": "execute_result",
          "data": {
            "text/plain": [
              "45.88122605363984"
            ]
          },
          "metadata": {},
          "execution_count": 48
        }
      ]
    },
    {
      "cell_type": "code",
      "source": [
        "# 5.2\n",
        "total_n_reviews= n_df.count()\n",
        "total_n_reviews"
      ],
      "metadata": {
        "colab": {
          "base_uri": "https://localhost:8080/"
        },
        "id": "q-eR1Qhl4FHa",
        "outputId": "55c21790-c717-4705-a961-fc7b0bbc1459"
      },
      "execution_count": 49,
      "outputs": [
        {
          "output_type": "execute_result",
          "data": {
            "text/plain": [
              "1011346"
            ]
          },
          "metadata": {},
          "execution_count": 49
        }
      ]
    },
    {
      "cell_type": "code",
      "source": [
        "unpaid_five_star = n_df.filter(n_df.star_rating==5).count()\n",
        "unpaid_five_star"
      ],
      "metadata": {
        "colab": {
          "base_uri": "https://localhost:8080/"
        },
        "id": "Am2UkzEa55cn",
        "outputId": "4c2fdf6e-175c-4aa2-b5a5-d8c85a7c23a8"
      },
      "execution_count": 52,
      "outputs": [
        {
          "output_type": "execute_result",
          "data": {
            "text/plain": [
              "605422"
            ]
          },
          "metadata": {},
          "execution_count": 52
        }
      ]
    },
    {
      "cell_type": "code",
      "source": [
        "unpaid_percantage = (unpaid_five_star/total_n_reviews)*100\n",
        "unpaid_percantage"
      ],
      "metadata": {
        "colab": {
          "base_uri": "https://localhost:8080/"
        },
        "id": "8OuR6bUZ6EXS",
        "outputId": "71386b3b-bae8-4574-cd92-5f333f89962d"
      },
      "execution_count": 53,
      "outputs": [
        {
          "output_type": "execute_result",
          "data": {
            "text/plain": [
              "59.862994464802355"
            ]
          },
          "metadata": {},
          "execution_count": 53
        }
      ]
    },
    {
      "cell_type": "code",
      "source": [
        ""
      ],
      "metadata": {
        "id": "9tWacpVs6SoW"
      },
      "execution_count": null,
      "outputs": []
    }
  ]
}